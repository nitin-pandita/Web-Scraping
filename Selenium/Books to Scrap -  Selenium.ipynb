{
 "cells": [
  {
   "cell_type": "code",
   "execution_count": 1,
   "id": "725072fd",
   "metadata": {},
   "outputs": [],
   "source": [
    "from selenium import webdriver\n",
    "from selenium.webdriver.common.by import By"
   ]
  },
  {
   "cell_type": "code",
   "execution_count": 2,
   "id": "dc195e67",
   "metadata": {},
   "outputs": [
    {
     "name": "stderr",
     "output_type": "stream",
     "text": [
      "C:\\Users\\karti\\AppData\\Local\\Temp\\ipykernel_10812\\942410967.py:1: DeprecationWarning: executable_path has been deprecated, please pass in a Service object\n",
      "  driver = webdriver.Chrome('E:\\Chrome Donwloads\\chromedriver_win32/chromedriver')\n"
     ]
    }
   ],
   "source": [
    "driver = webdriver.Chrome('E:\\Chrome Donwloads\\chromedriver_win32/chromedriver')"
   ]
  },
  {
   "cell_type": "code",
   "execution_count": 3,
   "id": "fe63a152",
   "metadata": {},
   "outputs": [],
   "source": [
    "driver.get('http://books.toscrape.com/')"
   ]
  },
  {
   "cell_type": "code",
   "execution_count": 9,
   "id": "693dd4c2",
   "metadata": {},
   "outputs": [],
   "source": [
    "music = driver.find_element(By.LINK_TEXT,'Music')"
   ]
  },
  {
   "cell_type": "code",
   "execution_count": 10,
   "id": "2462a334",
   "metadata": {},
   "outputs": [],
   "source": [
    "music.click()"
   ]
  },
  {
   "cell_type": "code",
   "execution_count": 12,
   "id": "6d38d52b",
   "metadata": {},
   "outputs": [],
   "source": [
    "i1 = driver.find_element(By.CLASS_NAME,'image_container')"
   ]
  },
  {
   "cell_type": "code",
   "execution_count": 13,
   "id": "e7ba7f97",
   "metadata": {},
   "outputs": [],
   "source": [
    "i1.click()"
   ]
  },
  {
   "cell_type": "code",
   "execution_count": 14,
   "id": "1758d7cd",
   "metadata": {},
   "outputs": [],
   "source": [
    "driver.back()"
   ]
  },
  {
   "cell_type": "code",
   "execution_count": 15,
   "id": "aa6cf921",
   "metadata": {},
   "outputs": [],
   "source": [
    "i2 = driver.find_elements(By.CLASS_NAME,'image_container')"
   ]
  },
  {
   "cell_type": "code",
   "execution_count": 16,
   "id": "e32c6b87",
   "metadata": {},
   "outputs": [
    {
     "name": "stdout",
     "output_type": "stream",
     "text": [
      "13\n"
     ]
    }
   ],
   "source": [
    "print(len(i2))"
   ]
  },
  {
   "cell_type": "code",
   "execution_count": 17,
   "id": "17bab2f5",
   "metadata": {},
   "outputs": [
    {
     "data": {
      "text/plain": [
       "[<selenium.webdriver.remote.webelement.WebElement (session=\"869e331a29787068bb953fded069a1a2\", element=\"2A142E52501073C413E91A1A29CF4F54_element_257\")>,\n",
       " <selenium.webdriver.remote.webelement.WebElement (session=\"869e331a29787068bb953fded069a1a2\", element=\"2A142E52501073C413E91A1A29CF4F54_element_254\")>,\n",
       " <selenium.webdriver.remote.webelement.WebElement (session=\"869e331a29787068bb953fded069a1a2\", element=\"2A142E52501073C413E91A1A29CF4F54_element_266\")>,\n",
       " <selenium.webdriver.remote.webelement.WebElement (session=\"869e331a29787068bb953fded069a1a2\", element=\"2A142E52501073C413E91A1A29CF4F54_element_185\")>,\n",
       " <selenium.webdriver.remote.webelement.WebElement (session=\"869e331a29787068bb953fded069a1a2\", element=\"2A142E52501073C413E91A1A29CF4F54_element_267\")>,\n",
       " <selenium.webdriver.remote.webelement.WebElement (session=\"869e331a29787068bb953fded069a1a2\", element=\"2A142E52501073C413E91A1A29CF4F54_element_268\")>,\n",
       " <selenium.webdriver.remote.webelement.WebElement (session=\"869e331a29787068bb953fded069a1a2\", element=\"2A142E52501073C413E91A1A29CF4F54_element_269\")>,\n",
       " <selenium.webdriver.remote.webelement.WebElement (session=\"869e331a29787068bb953fded069a1a2\", element=\"2A142E52501073C413E91A1A29CF4F54_element_270\")>,\n",
       " <selenium.webdriver.remote.webelement.WebElement (session=\"869e331a29787068bb953fded069a1a2\", element=\"2A142E52501073C413E91A1A29CF4F54_element_271\")>,\n",
       " <selenium.webdriver.remote.webelement.WebElement (session=\"869e331a29787068bb953fded069a1a2\", element=\"2A142E52501073C413E91A1A29CF4F54_element_272\")>,\n",
       " <selenium.webdriver.remote.webelement.WebElement (session=\"869e331a29787068bb953fded069a1a2\", element=\"2A142E52501073C413E91A1A29CF4F54_element_273\")>,\n",
       " <selenium.webdriver.remote.webelement.WebElement (session=\"869e331a29787068bb953fded069a1a2\", element=\"2A142E52501073C413E91A1A29CF4F54_element_274\")>,\n",
       " <selenium.webdriver.remote.webelement.WebElement (session=\"869e331a29787068bb953fded069a1a2\", element=\"2A142E52501073C413E91A1A29CF4F54_element_275\")>]"
      ]
     },
     "execution_count": 17,
     "metadata": {},
     "output_type": "execute_result"
    }
   ],
   "source": [
    "i2"
   ]
  },
  {
   "cell_type": "code",
   "execution_count": null,
   "id": "40786aec",
   "metadata": {},
   "outputs": [],
   "source": []
  },
  {
   "cell_type": "code",
   "execution_count": null,
   "id": "a904b0e2",
   "metadata": {},
   "outputs": [],
   "source": []
  }
 ],
 "metadata": {
  "kernelspec": {
   "display_name": "Python 3 (ipykernel)",
   "language": "python",
   "name": "python3"
  },
  "language_info": {
   "codemirror_mode": {
    "name": "ipython",
    "version": 3
   },
   "file_extension": ".py",
   "mimetype": "text/x-python",
   "name": "python",
   "nbconvert_exporter": "python",
   "pygments_lexer": "ipython3",
   "version": "3.10.9"
  }
 },
 "nbformat": 4,
 "nbformat_minor": 5
}
