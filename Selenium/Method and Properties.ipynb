{
 "cells": [
  {
   "cell_type": "code",
   "execution_count": 5,
   "id": "7079e89d",
   "metadata": {},
   "outputs": [],
   "source": [
    "from selenium import webdriver\n",
    "from selenium.webdriver.common.by import By"
   ]
  },
  {
   "cell_type": "code",
   "execution_count": 2,
   "id": "b9e7fa54",
   "metadata": {},
   "outputs": [
    {
     "name": "stderr",
     "output_type": "stream",
     "text": [
      "C:\\Users\\karti\\AppData\\Local\\Temp\\ipykernel_16784\\2577466497.py:1: DeprecationWarning: executable_path has been deprecated, please pass in a Service object\n",
      "  driver = webdriver.Chrome('E:\\Chrome Donwloads\\chromedriver_win32/chromedirver')\n"
     ]
    }
   ],
   "source": [
    "driver = webdriver.Chrome('E:\\Chrome Donwloads\\chromedriver_win32/chromedirver')"
   ]
  },
  {
   "cell_type": "code",
   "execution_count": 3,
   "id": "ba720859",
   "metadata": {},
   "outputs": [],
   "source": [
    "driver.get('https://www.amazon.in/ref=nav_logo')"
   ]
  },
  {
   "cell_type": "code",
   "execution_count": 4,
   "id": "3352c21c",
   "metadata": {},
   "outputs": [
    {
     "data": {
      "text/plain": [
       "'Online Shopping site in India: Shop Online for Mobiles, Books, Watches, Shoes and More - Amazon.in'"
      ]
     },
     "execution_count": 4,
     "metadata": {},
     "output_type": "execute_result"
    }
   ],
   "source": [
    "driver.title"
   ]
  },
  {
   "cell_type": "code",
   "execution_count": 6,
   "id": "ea556525",
   "metadata": {},
   "outputs": [],
   "source": [
    "bl = driver.find_element(By.LINK_TEXT,'Sell')\n",
    "bl.click()"
   ]
  },
  {
   "cell_type": "code",
   "execution_count": 7,
   "id": "d37d182e",
   "metadata": {},
   "outputs": [],
   "source": [
    "driver.back()"
   ]
  },
  {
   "cell_type": "code",
   "execution_count": 8,
   "id": "cfefcd31",
   "metadata": {},
   "outputs": [],
   "source": [
    "driver.delete_all_cookies()"
   ]
  },
  {
   "cell_type": "code",
   "execution_count": 9,
   "id": "0175692b",
   "metadata": {},
   "outputs": [],
   "source": [
    "driver.fullscreen_window()"
   ]
  },
  {
   "cell_type": "code",
   "execution_count": 13,
   "id": "dc9758cf",
   "metadata": {
    "scrolled": true
   },
   "outputs": [],
   "source": [
    "text = driver.find_element(By.CLASS_NAME,'a-color-base')\n",
    "text.click()"
   ]
  },
  {
   "cell_type": "code",
   "execution_count": 16,
   "id": "e5807187",
   "metadata": {},
   "outputs": [
    {
     "data": {
      "text/plain": [
       "'h2'"
      ]
     },
     "execution_count": 16,
     "metadata": {},
     "output_type": "execute_result"
    }
   ],
   "source": [
    "text.tag_name"
   ]
  },
  {
   "cell_type": "code",
   "execution_count": null,
   "id": "9a76718b",
   "metadata": {},
   "outputs": [],
   "source": []
  },
  {
   "cell_type": "code",
   "execution_count": null,
   "id": "24c9db37",
   "metadata": {},
   "outputs": [],
   "source": []
  },
  {
   "cell_type": "code",
   "execution_count": null,
   "id": "e8e40f22",
   "metadata": {},
   "outputs": [],
   "source": []
  },
  {
   "cell_type": "code",
   "execution_count": null,
   "id": "17543bd1",
   "metadata": {},
   "outputs": [],
   "source": []
  },
  {
   "cell_type": "code",
   "execution_count": null,
   "id": "18802934",
   "metadata": {},
   "outputs": [],
   "source": []
  },
  {
   "cell_type": "code",
   "execution_count": null,
   "id": "5b97c773",
   "metadata": {},
   "outputs": [],
   "source": []
  }
 ],
 "metadata": {
  "kernelspec": {
   "display_name": "Python 3 (ipykernel)",
   "language": "python",
   "name": "python3"
  },
  "language_info": {
   "codemirror_mode": {
    "name": "ipython",
    "version": 3
   },
   "file_extension": ".py",
   "mimetype": "text/x-python",
   "name": "python",
   "nbconvert_exporter": "python",
   "pygments_lexer": "ipython3",
   "version": "3.10.9"
  }
 },
 "nbformat": 4,
 "nbformat_minor": 5
}
